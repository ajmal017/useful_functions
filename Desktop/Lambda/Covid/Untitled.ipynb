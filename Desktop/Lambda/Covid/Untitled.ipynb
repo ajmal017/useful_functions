{
 "cells": [
  {
   "cell_type": "code",
   "execution_count": 1,
   "metadata": {},
   "outputs": [],
   "source": [
    "import numpy as np\n",
    "import pandas as pd\n",
    "\n",
    "train =  'covid19-global-forecasting-week-2/train.csv'\n",
    "test = 'covid19-global-forecasting-week-2/test.csv'\n",
    "train_df = pd.read_csv(train)\n",
    "test_df = pd.read_csv(test)\n"
   ]
  },
  {
   "cell_type": "code",
   "execution_count": 3,
   "metadata": {},
   "outputs": [
    {
     "data": {
      "text/plain": [
       "(   Id Province_State Country_Region        Date  ConfirmedCases  Fatalities\n",
       " 0   1            NaN    Afghanistan  2020-01-22             0.0         0.0\n",
       " 1   2            NaN    Afghanistan  2020-01-23             0.0         0.0\n",
       " 2   3            NaN    Afghanistan  2020-01-24             0.0         0.0\n",
       " 3   4            NaN    Afghanistan  2020-01-25             0.0         0.0\n",
       " 4   5            NaN    Afghanistan  2020-01-26             0.0         0.0,\n",
       " (19698, 6))"
      ]
     },
     "execution_count": 3,
     "metadata": {},
     "output_type": "execute_result"
    }
   ],
   "source": [
    "train_df.head(), train_df.shape\n"
   ]
  },
  {
   "cell_type": "code",
   "execution_count": 4,
   "metadata": {},
   "outputs": [
    {
     "data": {
      "text/plain": [
       "(   ForecastId Province_State Country_Region        Date\n",
       " 0           1            NaN    Afghanistan  2020-03-19\n",
       " 1           2            NaN    Afghanistan  2020-03-20\n",
       " 2           3            NaN    Afghanistan  2020-03-21\n",
       " 3           4            NaN    Afghanistan  2020-03-22\n",
       " 4           5            NaN    Afghanistan  2020-03-23, (12642, 4))"
      ]
     },
     "execution_count": 4,
     "metadata": {},
     "output_type": "execute_result"
    }
   ],
   "source": [
    "test_df.head(), test_df.shape"
   ]
  },
  {
   "cell_type": "code",
   "execution_count": 5,
   "metadata": {},
   "outputs": [
    {
     "data": {
      "text/plain": [
       "Id                  int64\n",
       "Province_State     object\n",
       "Country_Region     object\n",
       "Date               object\n",
       "ConfirmedCases    float64\n",
       "Fatalities        float64\n",
       "dtype: object"
      ]
     },
     "execution_count": 5,
     "metadata": {},
     "output_type": "execute_result"
    }
   ],
   "source": [
    "train_df.dtypes"
   ]
  },
  {
   "cell_type": "code",
   "execution_count": null,
   "metadata": {},
   "outputs": [],
   "source": [
    " "
   ]
  }
 ],
 "metadata": {
  "kernelspec": {
   "display_name": "Python 3",
   "language": "python",
   "name": "python3"
  },
  "language_info": {
   "codemirror_mode": {
    "name": "ipython",
    "version": 3
   },
   "file_extension": ".py",
   "mimetype": "text/x-python",
   "name": "python",
   "nbconvert_exporter": "python",
   "pygments_lexer": "ipython3",
   "version": "3.7.4"
  }
 },
 "nbformat": 4,
 "nbformat_minor": 4
}
